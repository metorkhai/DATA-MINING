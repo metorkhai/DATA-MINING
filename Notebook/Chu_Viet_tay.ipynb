{
  "nbformat": 4,
  "nbformat_minor": 0,
  "metadata": {
    "colab": {
      "provenance": [],
      "toc_visible": true
    },
    "kernelspec": {
      "name": "python3",
      "display_name": "Python 3"
    },
    "language_info": {
      "name": "python"
    }
  },
  "cells": [
    {
      "cell_type": "code",
      "source": [
        "import tensorflow as tf\n",
        "mnist = tf.keras.datasets.mnist\n",
        "(x_train, y_train), (x_test, y_test) = mnist.load_data()\n",
        "\n",
        "import matplotlib.pyplot as plt\n",
        "plt.imshow(x_train[0], cmap = plt.cm.binary)\n",
        "plt.show()\n",
        "plt.imshow(x_train[0])\n",
        "print(x_train[0])\n"
      ],
      "metadata": {
        "colab": {
          "base_uri": "https://localhost:8080/",
          "height": 1000
        },
        "id": "R80IJfq3sAoF",
        "outputId": "521b6c37-1b1d-4ad7-d8b0-8fa7a9f77780"
      },
      "execution_count": null,
      "outputs": [
        {
          "output_type": "stream",
          "name": "stdout",
          "text": [
            "Downloading data from https://storage.googleapis.com/tensorflow/tf-keras-datasets/mnist.npz\n",
            "\u001b[1m11490434/11490434\u001b[0m \u001b[32m━━━━━━━━━━━━━━━━━━━━\u001b[0m\u001b[37m\u001b[0m \u001b[1m0s\u001b[0m 0us/step\n"
          ]
        },
        {
          "output_type": "display_data",
          "data": {
            "text/plain": [
              "<Figure size 640x480 with 1 Axes>"
            ],
            "image/png": "[encoded data removed]"
          },
          "metadata": {}
        },
        {
          "output_type": "stream",
          "name": "stdout",
          "text": [
            "[[  0   0   0   0   0   0   0   0   0   0   0   0   0   0   0   0   0   0\n",
            "    0   0   0   0   0   0   0   0   0   0]\n",
            " [  0   0   0   0   0   0   0   0   0   0   0   0   0   0   0   0   0   0\n",
            "    0   0   0   0   0   0   0   0   0   0]\n",
            " [  0   0   0   0   0   0   0   0   0   0   0   0   0   0   0   0   0   0\n",
            "    0   0   0   0   0   0   0   0   0   0]\n",
            " [  0   0   0   0   0   0   0   0   0   0   0   0   0   0   0   0   0   0\n",
            "    0   0   0   0   0   0   0   0   0   0]\n",
            " [  0   0   0   0   0   0   0   0   0   0   0   0   0   0   0   0   0   0\n",
            "    0   0   0   0   0   0   0   0   0   0]\n",
            " [  0   0   0   0   0   0   0   0   0   0   0   0   3  18  18  18 126 136\n",
            "  175  26 166 255 247 127   0   0   0   0]\n",
            " [  0   0   0   0   0   0   0   0  30  36  94 154 170 253 253 253 253 253\n",
            "  225 172 253 242 195  64   0   0   0   0]\n",
            " [  0   0   0   0   0   0   0  49 238 253 253 253 253 253 253 253 253 251\n",
            "   93  82  82  56  39   0   0   0   0   0]\n",
            " [  0   0   0   0   0   0   0  18 219 253 253 253 253 253 198 182 247 241\n",
            "    0   0   0   0   0   0   0   0   0   0]\n",
            " [  0   0   0   0   0   0   0   0  80 156 107 253 253 205  11   0  43 154\n",
            "    0   0   0   0   0   0   0   0   0   0]\n",
            " [  0   0   0   0   0   0   0   0   0  14   1 154 253  90   0   0   0   0\n",
            "    0   0   0   0   0   0   0   0   0   0]\n",
            " [  0   0   0   0   0   0   0   0   0   0   0 139 253 190   2   0   0   0\n",
            "    0   0   0   0   0   0   0   0   0   0]\n",
            " [  0   0   0   0   0   0   0   0   0   0   0  11 190 253  70   0   0   0\n",
            "    0   0   0   0   0   0   0   0   0   0]\n",
            " [  0   0   0   0   0   0   0   0   0   0   0   0  35 241 225 160 108   1\n",
            "    0   0   0   0   0   0   0   0   0   0]\n",
            " [  0   0   0   0   0   0   0   0   0   0   0   0   0  81 240 253 253 119\n",
            "   25   0   0   0   0   0   0   0   0   0]\n",
            " [  0   0   0   0   0   0   0   0   0   0   0   0   0   0  45 186 253 253\n",
            "  150  27   0   0   0   0   0   0   0   0]\n",
            " [  0   0   0   0   0   0   0   0   0   0   0   0   0   0   0  16  93 252\n",
            "  253 187   0   0   0   0   0   0   0   0]\n",
            " [  0   0   0   0   0   0   0   0   0   0   0   0   0   0   0   0   0 249\n",
            "  253 249  64   0   0   0   0   0   0   0]\n",
            " [  0   0   0   0   0   0   0   0   0   0   0   0   0   0  46 130 183 253\n",
            "  253 207   2   0   0   0   0   0   0   0]\n",
            " [  0   0   0   0   0   0   0   0   0   0   0   0  39 148 229 253 253 253\n",
            "  250 182   0   0   0   0   0   0   0   0]\n",
            " [  0   0   0   0   0   0   0   0   0   0  24 114 221 253 253 253 253 201\n",
            "   78   0   0   0   0   0   0   0   0   0]\n",
            " [  0   0   0   0   0   0   0   0  23  66 213 253 253 253 253 198  81   2\n",
            "    0   0   0   0   0   0   0   0   0   0]\n",
            " [  0   0   0   0   0   0  18 171 219 253 253 253 253 195  80   9   0   0\n",
            "    0   0   0   0   0   0   0   0   0   0]\n",
            " [  0   0   0   0  55 172 226 253 253 253 253 244 133  11   0   0   0   0\n",
            "    0   0   0   0   0   0   0   0   0   0]\n",
            " [  0   0   0   0 136 253 253 253 212 135 132  16   0   0   0   0   0   0\n",
            "    0   0   0   0   0   0   0   0   0   0]\n",
            " [  0   0   0   0   0   0   0   0   0   0   0   0   0   0   0   0   0   0\n",
            "    0   0   0   0   0   0   0   0   0   0]\n",
            " [  0   0   0   0   0   0   0   0   0   0   0   0   0   0   0   0   0   0\n",
            "    0   0   0   0   0   0   0   0   0   0]\n",
            " [  0   0   0   0   0   0   0   0   0   0   0   0   0   0   0   0   0   0\n",
            "    0   0   0   0   0   0   0   0   0   0]]\n"
          ]
        },
        {
          "output_type": "display_data",
          "data": {
            "text/plain": [
              "<Figure size 640x480 with 1 Axes>"
            ],
            "image/png": "[encoded data removed]"
          },
          "metadata": {}
        }
      ]
    },
    {
      "cell_type": "code",
      "execution_count": null,
      "metadata": {
        "id": "ruAdypmd68ly"
      },
      "outputs": [],
      "source": [
        "# ============================================================\n",
        "# 0. CÀI ĐẶT & IMPORT\n",
        "# ============================================================\n",
        "from keras.datasets import mnist\n",
        "from tensorflow.keras.utils import to_categorical\n",
        "from tensorflow.keras.models import Sequential\n",
        "from tensorflow.keras.layers import Dense\n",
        "from tensorflow.keras.optimizers import Adam\n",
        "from tensorflow.keras.losses import CategoricalCrossentropy\n",
        "from sklearn.metrics import accuracy_score, confusion_matrix\n",
        "import numpy as np\n",
        "import pandas as pd\n",
        "import seaborn as sn\n",
        "import matplotlib.pyplot as plt\n"
      ]
    },
    {
      "cell_type": "markdown",
      "source": [
        "# Load và chuẩn hoá dữ liệu"
      ],
      "metadata": {
        "id": "sXWiUzreXoHq"
      }
    },
    {
      "cell_type": "code",
      "source": [
        "# ============================================================\n",
        "# 1. LOAD DỮ LIỆU & CHUẨN HOÁ\n",
        "# ============================================================\n",
        "(X_train, y_train), (X_test, y_test) = mnist.load_data()\n",
        "\n",
        "# Reshape từ (28,28) -> (784,) và scale về [0,1]\n",
        "X_train = X_train.reshape(-1, 784).astype(\"float32\") / 255.0\n",
        "X_test  = X_test.reshape(-1, 784).astype(\"float32\") / 255.0\n",
        "\n",
        "# One-hot cho nhãn\n",
        "y_train = to_categorical(y_train, 10)\n",
        "y_test  = to_categorical(y_test, 10)\n"
      ],
      "metadata": {
        "id": "1MS5Bb7VVCom"
      },
      "execution_count": null,
      "outputs": []
    },
    {
      "cell_type": "markdown",
      "source": [
        "# Code gốc (ReLU + Softmax)"
      ],
      "metadata": {
        "id": "wQDyKqrUX4im"
      }
    },
    {
      "cell_type": "code",
      "source": [
        "# ============================================================\n",
        "# 2. BASELINE MODEL\n",
        "# ============================================================\n",
        "model_base = Sequential([\n",
        "    Dense(128, activation='relu', input_shape=(784,)),\n",
        "    Dense(10, activation='softmax')\n",
        "])\n",
        "\n",
        "model_base.compile(optimizer=Adam(0.001),\n",
        "                   loss=CategoricalCrossentropy(),\n",
        "                   metrics=['accuracy'])\n",
        "\n",
        "hist_base = model_base.fit(X_train, y_train,\n",
        "                           batch_size=128, epochs=10,\n",
        "                           validation_split=0.1, verbose=2)\n",
        "\n",
        "# Đánh giá\n",
        "y_pred = model_base.predict(X_test)\n",
        "acc_base = accuracy_score(np.argmax(y_test,1), np.argmax(y_pred,1))\n",
        "print(\"Baseline Accuracy: %.2f%%\" % (acc_base*100))\n"
      ],
      "metadata": {
        "colab": {
          "base_uri": "https://localhost:8080/"
        },
        "id": "dv4MuSD1VG-v",
        "outputId": "bfb627d4-a1cd-4040-a94f-8e555e3f6385"
      },
      "execution_count": null,
      "outputs": [
        {
          "output_type": "stream",
          "name": "stderr",
          "text": [
            "/usr/local/lib/python3.12/dist-packages/keras/src/layers/core/dense.py:93: UserWarning: Do not pass an `input_shape`/`input_dim` argument to a layer. When using Sequential models, prefer using an `Input(shape)` object as the first layer in the model instead.\n",
            "  super().__init__(activity_regularizer=activity_regularizer, **kwargs)\n"
          ]
        },
        {
          "output_type": "stream",
          "name": "stdout",
          "text": [
            "Epoch 1/10\n",
            "422/422 - 3s - 7ms/step - accuracy: 0.8947 - loss: 0.3787 - val_accuracy: 0.9540 - val_loss: 0.1751\n",
            "Epoch 2/10\n",
            "422/422 - 2s - 6ms/step - accuracy: 0.9480 - loss: 0.1826 - val_accuracy: 0.9648 - val_loss: 0.1280\n",
            "Epoch 3/10\n",
            "422/422 - 2s - 4ms/step - accuracy: 0.9623 - loss: 0.1300 - val_accuracy: 0.9698 - val_loss: 0.1067\n",
            "Epoch 4/10\n",
            "422/422 - 3s - 6ms/step - accuracy: 0.9718 - loss: 0.0999 - val_accuracy: 0.9733 - val_loss: 0.0955\n",
            "Epoch 5/10\n",
            "422/422 - 2s - 5ms/step - accuracy: 0.9767 - loss: 0.0809 - val_accuracy: 0.9772 - val_loss: 0.0870\n",
            "Epoch 6/10\n",
            "422/422 - 2s - 6ms/step - accuracy: 0.9808 - loss: 0.0667 - val_accuracy: 0.9787 - val_loss: 0.0829\n",
            "Epoch 7/10\n",
            "422/422 - 4s - 10ms/step - accuracy: 0.9841 - loss: 0.0557 - val_accuracy: 0.9785 - val_loss: 0.0790\n",
            "Epoch 8/10\n",
            "422/422 - 2s - 4ms/step - accuracy: 0.9865 - loss: 0.0472 - val_accuracy: 0.9797 - val_loss: 0.0764\n",
            "Epoch 9/10\n",
            "422/422 - 5s - 12ms/step - accuracy: 0.9888 - loss: 0.0398 - val_accuracy: 0.9773 - val_loss: 0.0780\n",
            "Epoch 10/10\n",
            "422/422 - 3s - 8ms/step - accuracy: 0.9904 - loss: 0.0344 - val_accuracy: 0.9778 - val_loss: 0.0819\n",
            "\u001b[1m313/313\u001b[0m \u001b[32m━━━━━━━━━━━━━━━━━━━━\u001b[0m\u001b[37m\u001b[0m \u001b[1m0s\u001b[0m 1ms/step\n",
            "Baseline Accuracy: 97.85%\n"
          ]
        }
      ]
    },
    {
      "cell_type": "markdown",
      "source": [
        "# Bài 1 – Sigmoid toàn bộ"
      ],
      "metadata": {
        "id": "8OME9lLAYKBA"
      }
    },
    {
      "cell_type": "code",
      "source": [
        "# ============================================================\n",
        "# 3. BÀI 1 – Sigmoid cho cả 2 lớp\n",
        "# ============================================================\n",
        "model_b1 = Sequential([\n",
        "    Dense(128, activation='sigmoid', input_shape=(784,)),\n",
        "    Dense(10, activation='sigmoid')\n",
        "])\n",
        "\n",
        "model_b1.compile(optimizer=Adam(0.001),\n",
        "                 loss=CategoricalCrossentropy(),\n",
        "                 metrics=['accuracy'])\n",
        "\n",
        "hist_b1 = model_b1.fit(X_train, y_train,\n",
        "                       batch_size=128, epochs=10,\n",
        "                       validation_split=0.1, verbose=2)\n",
        "\n",
        "y_pred_b1 = model_b1.predict(X_test)\n",
        "acc_b1 = accuracy_score(np.argmax(y_test,1), np.argmax(y_pred_b1,1))\n",
        "print(\"Bài 1 Accuracy (sigmoid-sigmoid): %.2f%%\" % (acc_b1*100))\n"
      ],
      "metadata": {
        "colab": {
          "base_uri": "https://localhost:8080/"
        },
        "id": "boMQGvCLYLmC",
        "outputId": "14573fd8-0669-40dd-b15a-c709aa861ed0"
      },
      "execution_count": null,
      "outputs": [
        {
          "output_type": "stream",
          "name": "stderr",
          "text": [
            "/usr/local/lib/python3.12/dist-packages/keras/src/layers/core/dense.py:93: UserWarning: Do not pass an `input_shape`/`input_dim` argument to a layer. When using Sequential models, prefer using an `Input(shape)` object as the first layer in the model instead.\n",
            "  super().__init__(activity_regularizer=activity_regularizer, **kwargs)\n"
          ]
        },
        {
          "output_type": "stream",
          "name": "stdout",
          "text": [
            "Epoch 1/10\n",
            "422/422 - 4s - 10ms/step - accuracy: 0.8541 - loss: 0.6192 - val_accuracy: 0.9285 - val_loss: 0.2767\n",
            "Epoch 2/10\n",
            "422/422 - 4s - 10ms/step - accuracy: 0.9188 - loss: 0.2888 - val_accuracy: 0.9408 - val_loss: 0.2123\n",
            "Epoch 3/10\n",
            "422/422 - 2s - 4ms/step - accuracy: 0.9345 - loss: 0.2315 - val_accuracy: 0.9542 - val_loss: 0.1726\n",
            "Epoch 4/10\n",
            "422/422 - 3s - 6ms/step - accuracy: 0.9435 - loss: 0.1953 - val_accuracy: 0.9627 - val_loss: 0.1490\n",
            "Epoch 5/10\n",
            "422/422 - 4s - 8ms/step - accuracy: 0.9520 - loss: 0.1682 - val_accuracy: 0.9645 - val_loss: 0.1339\n",
            "Epoch 6/10\n",
            "422/422 - 2s - 4ms/step - accuracy: 0.9579 - loss: 0.1471 - val_accuracy: 0.9683 - val_loss: 0.1223\n",
            "Epoch 7/10\n",
            "422/422 - 2s - 4ms/step - accuracy: 0.9632 - loss: 0.1300 - val_accuracy: 0.9687 - val_loss: 0.1151\n",
            "Epoch 8/10\n",
            "422/422 - 2s - 4ms/step - accuracy: 0.9670 - loss: 0.1158 - val_accuracy: 0.9708 - val_loss: 0.1077\n",
            "Epoch 9/10\n",
            "422/422 - 2s - 4ms/step - accuracy: 0.9709 - loss: 0.1039 - val_accuracy: 0.9730 - val_loss: 0.0984\n",
            "Epoch 10/10\n",
            "422/422 - 2s - 4ms/step - accuracy: 0.9745 - loss: 0.0928 - val_accuracy: 0.9745 - val_loss: 0.0935\n",
            "\u001b[1m313/313\u001b[0m \u001b[32m━━━━━━━━━━━━━━━━━━━━\u001b[0m\u001b[37m\u001b[0m \u001b[1m1s\u001b[0m 2ms/step\n",
            "Bài 1 Accuracy (sigmoid-sigmoid): 96.79%\n"
          ]
        }
      ]
    },
    {
      "cell_type": "markdown",
      "source": [
        "sau khi làm bài 1 thì ta thấy accuracy thấy hơn ban đầu"
      ],
      "metadata": {
        "id": "xLXURcuaYWOi"
      }
    },
    {
      "cell_type": "markdown",
      "source": [
        "#Bài 2 – ReLU ẩn, Sigmoid đầu ra"
      ],
      "metadata": {
        "id": "YthzNQ3GYT-t"
      }
    },
    {
      "cell_type": "code",
      "source": [
        "# ============================================================\n",
        "# 4. BÀI 2 – ReLU + Sigmoid\n",
        "# ============================================================\n",
        "\n",
        "X_train_new = X_train/255.0\n",
        "X_test_new = X_test/255.0\n",
        "\n",
        "model_b2 = Sequential([\n",
        "    Dense(128, activation='relu', input_shape=(784,)),\n",
        "    Dense(10, activation='sigmoid')\n",
        "])\n",
        "\n",
        "model_b2.compile(optimizer=Adam(0.001),\n",
        "                 loss=CategoricalCrossentropy(),\n",
        "                 metrics=['accuracy'])\n",
        "\n",
        "hist_b2 = model_b2.fit(X_train, y_train,\n",
        "                       batch_size=128, epochs=10,\n",
        "                       validation_split=0.1, verbose=2)\n",
        "\n",
        "y_pred_b2 = model_b2.predict(X_test)\n",
        "acc_b2 = accuracy_score(np.argmax(y_test,1), np.argmax(y_pred_b2,1))\n",
        "print(\"Bài 2 Accuracy (relu-sigmoid): %.2f%%\" % (acc_b2*100))\n"
      ],
      "metadata": {
        "colab": {
          "base_uri": "https://localhost:8080/"
        },
        "id": "ykzlQ5NaYeD7",
        "outputId": "12a7029d-3b48-4684-d8e4-ed316d9023b5"
      },
      "execution_count": null,
      "outputs": [
        {
          "output_type": "stream",
          "name": "stderr",
          "text": [
            "/usr/local/lib/python3.12/dist-packages/keras/src/layers/core/dense.py:93: UserWarning: Do not pass an `input_shape`/`input_dim` argument to a layer. When using Sequential models, prefer using an `Input(shape)` object as the first layer in the model instead.\n",
            "  super().__init__(activity_regularizer=activity_regularizer, **kwargs)\n"
          ]
        },
        {
          "output_type": "stream",
          "name": "stdout",
          "text": [
            "Epoch 1/10\n",
            "422/422 - 3s - 7ms/step - accuracy: 0.8962 - loss: 0.3764 - val_accuracy: 0.9538 - val_loss: 0.1707\n",
            "Epoch 2/10\n",
            "422/422 - 3s - 7ms/step - accuracy: 0.9499 - loss: 0.1761 - val_accuracy: 0.9657 - val_loss: 0.1236\n",
            "Epoch 3/10\n",
            "422/422 - 2s - 4ms/step - accuracy: 0.9635 - loss: 0.1273 - val_accuracy: 0.9690 - val_loss: 0.1115\n",
            "Epoch 4/10\n",
            "422/422 - 2s - 4ms/step - accuracy: 0.9723 - loss: 0.0982 - val_accuracy: 0.9738 - val_loss: 0.0906\n",
            "Epoch 5/10\n",
            "422/422 - 2s - 4ms/step - accuracy: 0.9769 - loss: 0.0795 - val_accuracy: 0.9755 - val_loss: 0.0841\n",
            "Epoch 6/10\n",
            "422/422 - 3s - 6ms/step - accuracy: 0.9809 - loss: 0.0658 - val_accuracy: 0.9773 - val_loss: 0.0819\n",
            "Epoch 7/10\n",
            "422/422 - 2s - 5ms/step - accuracy: 0.9846 - loss: 0.0553 - val_accuracy: 0.9777 - val_loss: 0.0774\n",
            "Epoch 8/10\n",
            "422/422 - 3s - 6ms/step - accuracy: 0.9867 - loss: 0.0466 - val_accuracy: 0.9783 - val_loss: 0.0769\n",
            "Epoch 9/10\n",
            "422/422 - 2s - 4ms/step - accuracy: 0.9890 - loss: 0.0400 - val_accuracy: 0.9787 - val_loss: 0.0751\n",
            "Epoch 10/10\n",
            "422/422 - 2s - 4ms/step - accuracy: 0.9908 - loss: 0.0337 - val_accuracy: 0.9805 - val_loss: 0.0722\n",
            "\u001b[1m313/313\u001b[0m \u001b[32m━━━━━━━━━━━━━━━━━━━━\u001b[0m\u001b[37m\u001b[0m \u001b[1m0s\u001b[0m 1ms/step\n",
            "Bài 2 Accuracy (relu-sigmoid): 97.66%\n"
          ]
        }
      ]
    },
    {
      "cell_type": "markdown",
      "source": [
        "# Bài 3 – Normalizing lại và chạy model bài 2"
      ],
      "metadata": {
        "id": "--hyzdEaYlYV"
      }
    },
    {
      "cell_type": "code",
      "source": [
        "# ============================================================\n",
        "# 5. BÀI 3 – Chuẩn hoá lại và train model Bài 2\n",
        "# ============================================================\n",
        "(X_train_raw, y_train_raw), (X_test_raw, y_test_raw) = mnist.load_data()\n",
        "X_train_new = X_train_raw.reshape(-1, 784).astype(\"float32\") / 255.0\n",
        "X_test_new  = X_test_raw.reshape(-1, 784).astype(\"float32\") / 255.0\n",
        "y_train_new = to_categorical(y_train_raw, 10)\n",
        "y_test_new  = to_categorical(y_test_raw, 10)\n",
        "\n",
        "model_b3 = Sequential([\n",
        "    Dense(128, activation='relu', input_shape=(784,)),\n",
        "    Dense(10, activation='sigmoid')\n",
        "])\n",
        "model_b3.compile(optimizer=Adam(0.001),\n",
        "                 loss=CategoricalCrossentropy(),\n",
        "                 metrics=['accuracy'])\n",
        "\n",
        "hist_b3 = model_b3.fit(X_train_new, y_train_new,\n",
        "                       batch_size=128, epochs=10,\n",
        "                       validation_split=0.1, verbose=2)\n",
        "\n",
        "y_pred_b3 = model_b3.predict(X_test_new)\n",
        "acc_b3 = accuracy_score(np.argmax(y_test_new,1), np.argmax(y_pred_b3,1))\n",
        "print(\"Bài 3 Accuracy (relu-sigmoid, data re-normalized): %.2f%%\" % (acc_b3*100))\n"
      ],
      "metadata": {
        "colab": {
          "base_uri": "https://localhost:8080/"
        },
        "id": "LcQWMb1MYnxS",
        "outputId": "d560d59a-a77e-4842-f7b8-37bd0ec3952a"
      },
      "execution_count": null,
      "outputs": [
        {
          "output_type": "stream",
          "name": "stderr",
          "text": [
            "/usr/local/lib/python3.12/dist-packages/keras/src/layers/core/dense.py:93: UserWarning: Do not pass an `input_shape`/`input_dim` argument to a layer. When using Sequential models, prefer using an `Input(shape)` object as the first layer in the model instead.\n",
            "  super().__init__(activity_regularizer=activity_regularizer, **kwargs)\n"
          ]
        },
        {
          "output_type": "stream",
          "name": "stdout",
          "text": [
            "Epoch 1/10\n",
            "422/422 - 3s - 8ms/step - accuracy: 0.8956 - loss: 0.3806 - val_accuracy: 0.9537 - val_loss: 0.1705\n",
            "Epoch 2/10\n",
            "422/422 - 2s - 6ms/step - accuracy: 0.9493 - loss: 0.1772 - val_accuracy: 0.9653 - val_loss: 0.1254\n",
            "Epoch 3/10\n",
            "422/422 - 2s - 4ms/step - accuracy: 0.9638 - loss: 0.1279 - val_accuracy: 0.9705 - val_loss: 0.1026\n",
            "Epoch 4/10\n",
            "422/422 - 2s - 4ms/step - accuracy: 0.9713 - loss: 0.0990 - val_accuracy: 0.9728 - val_loss: 0.0921\n",
            "Epoch 5/10\n",
            "422/422 - 4s - 9ms/step - accuracy: 0.9766 - loss: 0.0795 - val_accuracy: 0.9735 - val_loss: 0.0875\n",
            "Epoch 6/10\n",
            "422/422 - 2s - 5ms/step - accuracy: 0.9812 - loss: 0.0667 - val_accuracy: 0.9767 - val_loss: 0.0811\n",
            "Epoch 7/10\n",
            "422/422 - 2s - 5ms/step - accuracy: 0.9842 - loss: 0.0562 - val_accuracy: 0.9775 - val_loss: 0.0794\n",
            "Epoch 8/10\n",
            "422/422 - 2s - 4ms/step - accuracy: 0.9869 - loss: 0.0471 - val_accuracy: 0.9777 - val_loss: 0.0764\n",
            "Epoch 9/10\n",
            "422/422 - 2s - 4ms/step - accuracy: 0.9890 - loss: 0.0401 - val_accuracy: 0.9792 - val_loss: 0.0724\n",
            "Epoch 10/10\n",
            "422/422 - 3s - 7ms/step - accuracy: 0.9909 - loss: 0.0337 - val_accuracy: 0.9802 - val_loss: 0.0732\n",
            "\u001b[1m313/313\u001b[0m \u001b[32m━━━━━━━━━━━━━━━━━━━━\u001b[0m\u001b[37m\u001b[0m \u001b[1m1s\u001b[0m 2ms/step\n",
            "Bài 3 Accuracy (relu-sigmoid, data re-normalized): 97.56%\n"
          ]
        }
      ]
    },
    {
      "cell_type": "markdown",
      "source": [
        "#Bài 4 – Ma trận nhầm lẫn của Bài 3\n",
        "\n"
      ],
      "metadata": {
        "id": "vphN1qU8ZJQH"
      }
    },
    {
      "cell_type": "code",
      "source": [
        "# ============================================================\n",
        "# 6. BÀI 4 – Confusion Matrix\n",
        "# ============================================================\n",
        "cm = confusion_matrix(np.argmax(y_test_new,1),\n",
        "                      np.argmax(y_pred_b3,1))\n",
        "\n",
        "df_cm = pd.DataFrame(cm,\n",
        "                     index=[i for i in range(10)],\n",
        "                     columns=[i for i in range(10)])\n",
        "plt.figure(figsize=(10,7))\n",
        "sn.heatmap(df_cm, annot=True, fmt='d', cmap='Blues')\n",
        "plt.xlabel(\"Predicted\")\n",
        "plt.ylabel(\"True\")\n",
        "plt.title(\"Confusion Matrix – Model Bài 3\")\n",
        "plt.show()\n"
      ],
      "metadata": {
        "colab": {
          "base_uri": "https://localhost:8080/",
          "height": 641
        },
        "id": "o4d4HXhGZQi_",
        "outputId": "1966f5b5-8c61-49ae-eb72-22b55b7d9793"
      },
      "execution_count": null,
      "outputs": [
        {
          "output_type": "display_data",
          "data": {
            "text/plain": [
              "<Figure size 1000x700 with 2 Axes>"
            ],
            "image/png": "[encoded data removed]"
          },
          "metadata": {}
        }
      ]
    },
    {
      "cell_type": "markdown",
      "source": [
        "# Code Bài 5 – CIFAR-10, 2 lớp Dense"
      ],
      "metadata": {
        "id": "gyvGyKdWaDhR"
      }
    },
    {
      "cell_type": "code",
      "source": [
        "# ============================================================\n",
        "# BÀI 5 – Mô hình 2 lớp cho CIFAR-10\n",
        "# ============================================================\n",
        "from keras.datasets import cifar10\n",
        "from tensorflow.keras.utils import to_categorical\n",
        "from tensorflow.keras.models import Sequential\n",
        "from tensorflow.keras.layers import Dense\n",
        "from tensorflow.keras.optimizers import Adam\n",
        "from tensorflow.keras.losses import CategoricalCrossentropy\n",
        "from sklearn.metrics import accuracy_score\n",
        "import numpy as np\n",
        "\n",
        "# 1. Load dữ liệu\n",
        "(X_train_cifar, y_train_cifar), (X_test_cifar, y_test_cifar) = cifar10.load_data()\n",
        "\n",
        "# 2. Chuẩn hoá: đưa pixel về [0,1]\n",
        "X_train_cifar = X_train_cifar.reshape(-1, 32*32*3).astype(\"float32\") / 255.0\n",
        "X_test_cifar  = X_test_cifar.reshape(-1, 32*32*3).astype(\"float32\") / 255.0\n",
        "\n",
        "# 3. One-hot cho nhãn\n",
        "y_train_cifar = to_categorical(y_train_cifar, 10)\n",
        "y_test_cifar  = to_categorical(y_test_cifar, 10)\n",
        "\n",
        "print(\"Train shape:\", X_train_cifar.shape)\n",
        "print(\"Test  shape:\", X_test_cifar.shape)\n",
        "\n",
        "# 4. Mô hình 2 lớp Dense\n",
        "model_cifar = Sequential([\n",
        "    Dense(256, activation='relu', input_shape=(32*32*3,)),\n",
        "    Dense(10, activation='softmax')\n",
        "])\n",
        "\n",
        "model_cifar.compile(optimizer=Adam(learning_rate=0.001),\n",
        "                    loss=CategoricalCrossentropy(),\n",
        "                    metrics=['accuracy'])\n",
        "\n",
        "# 5. Huấn luyện\n",
        "hist_cifar = model_cifar.fit(X_train_cifar, y_train_cifar,\n",
        "                             batch_size=128, epochs=10,\n",
        "                             validation_split=0.1, verbose=2)\n",
        "\n",
        "# 6. Đánh giá\n",
        "y_pred_cifar = model_cifar.predict(X_test_cifar)\n",
        "acc_cifar = accuracy_score(np.argmax(y_test_cifar,1),\n",
        "                           np.argmax(y_pred_cifar,1))\n",
        "print(\"CIFAR-10 Accuracy (Dense 2 lớp): %.2f%%\" % (acc_cifar*100))\n"
      ],
      "metadata": {
        "colab": {
          "base_uri": "https://localhost:8080/"
        },
        "id": "AEY7LBKaaBXl",
        "outputId": "cbc439e0-3ed4-4f02-cf5e-da1e899070ed"
      },
      "execution_count": null,
      "outputs": [
        {
          "output_type": "stream",
          "name": "stdout",
          "text": [
            "Downloading data from https://www.cs.toronto.edu/~kriz/cifar-10-python.tar.gz\n",
            "\u001b[1m170498071/170498071\u001b[0m \u001b[32m━━━━━━━━━━━━━━━━━━━━\u001b[0m\u001b[37m\u001b[0m \u001b[1m3s\u001b[0m 0us/step\n",
            "Train shape: (50000, 3072)\n",
            "Test  shape: (10000, 3072)\n"
          ]
        },
        {
          "output_type": "stream",
          "name": "stderr",
          "text": [
            "/usr/local/lib/python3.12/dist-packages/keras/src/layers/core/dense.py:93: UserWarning: Do not pass an `input_shape`/`input_dim` argument to a layer. When using Sequential models, prefer using an `Input(shape)` object as the first layer in the model instead.\n",
            "  super().__init__(activity_regularizer=activity_regularizer, **kwargs)\n"
          ]
        },
        {
          "output_type": "stream",
          "name": "stdout",
          "text": [
            "Epoch 1/10\n",
            "352/352 - 10s - 29ms/step - accuracy: 0.3034 - loss: 1.9669 - val_accuracy: 0.3536 - val_loss: 1.8177\n",
            "Epoch 2/10\n",
            "352/352 - 7s - 18ms/step - accuracy: 0.3769 - loss: 1.7586 - val_accuracy: 0.3798 - val_loss: 1.7493\n",
            "Epoch 3/10\n",
            "352/352 - 6s - 18ms/step - accuracy: 0.3996 - loss: 1.6921 - val_accuracy: 0.4112 - val_loss: 1.6978\n",
            "Epoch 4/10\n",
            "352/352 - 5s - 15ms/step - accuracy: 0.4200 - loss: 1.6379 - val_accuracy: 0.4300 - val_loss: 1.6293\n",
            "Epoch 5/10\n",
            "352/352 - 11s - 31ms/step - accuracy: 0.4302 - loss: 1.6077 - val_accuracy: 0.4372 - val_loss: 1.6089\n",
            "Epoch 6/10\n",
            "352/352 - 10s - 29ms/step - accuracy: 0.4415 - loss: 1.5853 - val_accuracy: 0.4306 - val_loss: 1.6193\n",
            "Epoch 7/10\n",
            "352/352 - 10s - 28ms/step - accuracy: 0.4502 - loss: 1.5643 - val_accuracy: 0.4090 - val_loss: 1.6530\n",
            "Epoch 8/10\n",
            "352/352 - 6s - 16ms/step - accuracy: 0.4549 - loss: 1.5438 - val_accuracy: 0.4490 - val_loss: 1.5662\n",
            "Epoch 9/10\n",
            "352/352 - 5s - 15ms/step - accuracy: 0.4643 - loss: 1.5226 - val_accuracy: 0.4450 - val_loss: 1.5740\n",
            "Epoch 10/10\n",
            "352/352 - 10s - 29ms/step - accuracy: 0.4657 - loss: 1.5128 - val_accuracy: 0.4530 - val_loss: 1.5460\n",
            "\u001b[1m313/313\u001b[0m \u001b[32m━━━━━━━━━━━━━━━━━━━━\u001b[0m\u001b[37m\u001b[0m \u001b[1m2s\u001b[0m 5ms/step\n",
            "CIFAR-10 Accuracy (Dense 2 lớp): 45.48%\n"
          ]
        }
      ]
    },
    {
      "cell_type": "markdown",
      "source": [
        "# So sánh nhanh"
      ],
      "metadata": {
        "id": "bZGx9AuzZV5R"
      }
    },
    {
      "cell_type": "code",
      "source": [
        "print(\"==== Accuracy Summary ====\")\n",
        "print(\"Baseline (relu-softmax):\", acc_base*100)\n",
        "print(\"Bài 1  (sigmoid-sigmoid):\", acc_b1*100)\n",
        "print(\"Bài 2  (relu-sigmoid):\",   acc_b2*100)\n",
        "print(\"Bài 3  (relu-sigmoid re-norm):\", acc_b3*100)\n",
        "print(f\"CIFAR10 Dense 2 lớp:            {acc_cifar*100:.2f}%\")"
      ],
      "metadata": {
        "colab": {
          "base_uri": "https://localhost:8080/"
        },
        "id": "Zx6obSsJZXnu",
        "outputId": "d865ee66-8d4c-47d9-dea3-c15504eda100"
      },
      "execution_count": null,
      "outputs": [
        {
          "output_type": "stream",
          "name": "stdout",
          "text": [
            "==== Accuracy Summary ====\n",
            "Baseline (relu-softmax): 97.85000000000001\n",
            "Bài 1  (sigmoid-sigmoid): 96.78999999999999\n",
            "Bài 2  (relu-sigmoid): 97.66\n",
            "Bài 3  (relu-sigmoid re-norm): 97.56\n",
            "CIFAR10 Dense 2 lớp:            45.48%\n"
          ]
        }
      ]
    },
    {
      "cell_type": "markdown",
      "source": [
        "| Dataset / Model                  | Đặc trưng dữ liệu                       | Độ khó | Kết quả điển hình  |\n",
        "| -------------------------------- | --------------------------------------- | ------ | ------------------ |\n",
        "| **MNIST** (ảnh chữ số xám 28×28) | Đơn giản, ít chi tiết, 1 kênh màu       | Dễ     | \\~97% với Dense    |\n",
        "| **CIFAR-10** (ảnh màu 32×32×3)   | 3 kênh màu, nhiều loại vật thể phức tạp | Khó    | \\~40–50% với Dense |\n",
        "Lý do CIFAR-10 khó hơn\n",
        "\n",
        "Ảnh màu 3 kênh → đầu vào 3072 đặc trưng, nhiều thông tin nhiễu.\n",
        "\n",
        "Nhiều hình dạng, bối cảnh: máy bay, chó, mèo… phức tạp hơn chữ số.\n",
        "\n",
        "Model chỉ là 2 lớp fully-connected, không khai thác cấu trúc không gian (cạnh, góc) của ảnh.\n",
        "\n",
        "Hàm ý\n",
        "\n",
        "Với CIFAR-10, để đạt >70 % bạn nên dùng Convolutional Neural Network (CNN) hoặc data augmentation.\n",
        "\n",
        "Kết quả thấp của model Dense chứng minh tầm quan trọng của kiến trúc phù hợp với dữ liệu.\n",
        "\n",
        "✅ Tóm tắt\n",
        "\n",
        "Chạy cell Bài 5 để huấn luyện CIFAR-10.\n",
        "\n",
        "In bảng tổng kết để so sánh trực tiếp với kết quả các bài MNIST.\n",
        "\n",
        "Quan sát: accuracy của CIFAR-10 thấp hơn nhiều → minh họa rõ ràng sự khác biệt giữa dữ liệu và kiến trúc mạng."
      ],
      "metadata": {
        "id": "O2FZliW2akHt"
      }
    }
  ]
}